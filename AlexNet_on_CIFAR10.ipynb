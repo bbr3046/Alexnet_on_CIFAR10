{
  "nbformat": 4,
  "nbformat_minor": 0,
  "metadata": {
    "colab": {
      "name": "AlexNet on CIFAR10.ipynb",
      "provenance": []
    },
    "kernelspec": {
      "name": "python3",
      "display_name": "Python 3"
    },
    "accelerator": "GPU",
    "widgets": {
      "application/vnd.jupyter.widget-state+json": {
        "18702d4d8b894f9280ee93f30154f86b": {
          "model_module": "@jupyter-widgets/controls",
          "model_name": "HBoxModel",
          "state": {
            "_view_name": "HBoxView",
            "_dom_classes": [],
            "_model_name": "HBoxModel",
            "_view_module": "@jupyter-widgets/controls",
            "_model_module_version": "1.5.0",
            "_view_count": null,
            "_view_module_version": "1.5.0",
            "box_style": "",
            "layout": "IPY_MODEL_15ac8b865e4b4c0abc4e39ae71bc0762",
            "_model_module": "@jupyter-widgets/controls",
            "children": [
              "IPY_MODEL_be7dd51f94da4c62b619ea06ed574dd2",
              "IPY_MODEL_9b402b5b904a4d86858c960a9bb2d518"
            ]
          }
        },
        "15ac8b865e4b4c0abc4e39ae71bc0762": {
          "model_module": "@jupyter-widgets/base",
          "model_name": "LayoutModel",
          "state": {
            "_view_name": "LayoutView",
            "grid_template_rows": null,
            "right": null,
            "justify_content": null,
            "_view_module": "@jupyter-widgets/base",
            "overflow": null,
            "_model_module_version": "1.2.0",
            "_view_count": null,
            "flex_flow": null,
            "width": null,
            "min_width": null,
            "border": null,
            "align_items": null,
            "bottom": null,
            "_model_module": "@jupyter-widgets/base",
            "top": null,
            "grid_column": null,
            "overflow_y": null,
            "overflow_x": null,
            "grid_auto_flow": null,
            "grid_area": null,
            "grid_template_columns": null,
            "flex": null,
            "_model_name": "LayoutModel",
            "justify_items": null,
            "grid_row": null,
            "max_height": null,
            "align_content": null,
            "visibility": null,
            "align_self": null,
            "height": null,
            "min_height": null,
            "padding": null,
            "grid_auto_rows": null,
            "grid_gap": null,
            "max_width": null,
            "order": null,
            "_view_module_version": "1.2.0",
            "grid_template_areas": null,
            "object_position": null,
            "object_fit": null,
            "grid_auto_columns": null,
            "margin": null,
            "display": null,
            "left": null
          }
        },
        "be7dd51f94da4c62b619ea06ed574dd2": {
          "model_module": "@jupyter-widgets/controls",
          "model_name": "IntProgressModel",
          "state": {
            "_view_name": "ProgressView",
            "style": "IPY_MODEL_de061a460dc14aea82d1f5e5d58f390b",
            "_dom_classes": [],
            "description": "",
            "_model_name": "IntProgressModel",
            "bar_style": "info",
            "max": 1,
            "_view_module": "@jupyter-widgets/controls",
            "_model_module_version": "1.5.0",
            "value": 1,
            "_view_count": null,
            "_view_module_version": "1.5.0",
            "orientation": "horizontal",
            "min": 0,
            "description_tooltip": null,
            "_model_module": "@jupyter-widgets/controls",
            "layout": "IPY_MODEL_6ac4d633383844fc9b5137055a4b02c0"
          }
        },
        "9b402b5b904a4d86858c960a9bb2d518": {
          "model_module": "@jupyter-widgets/controls",
          "model_name": "HTMLModel",
          "state": {
            "_view_name": "HTMLView",
            "style": "IPY_MODEL_5931d2750aa1467b9d45339aaf52c3fd",
            "_dom_classes": [],
            "description": "",
            "_model_name": "HTMLModel",
            "placeholder": "​",
            "_view_module": "@jupyter-widgets/controls",
            "_model_module_version": "1.5.0",
            "value": " 170500096/? [00:20&lt;00:00, 32590449.39it/s]",
            "_view_count": null,
            "_view_module_version": "1.5.0",
            "description_tooltip": null,
            "_model_module": "@jupyter-widgets/controls",
            "layout": "IPY_MODEL_76e0c6b6d24e4fc5b09bbedcdf2f5508"
          }
        },
        "de061a460dc14aea82d1f5e5d58f390b": {
          "model_module": "@jupyter-widgets/controls",
          "model_name": "ProgressStyleModel",
          "state": {
            "_view_name": "StyleView",
            "_model_name": "ProgressStyleModel",
            "description_width": "initial",
            "_view_module": "@jupyter-widgets/base",
            "_model_module_version": "1.5.0",
            "_view_count": null,
            "_view_module_version": "1.2.0",
            "bar_color": null,
            "_model_module": "@jupyter-widgets/controls"
          }
        },
        "6ac4d633383844fc9b5137055a4b02c0": {
          "model_module": "@jupyter-widgets/base",
          "model_name": "LayoutModel",
          "state": {
            "_view_name": "LayoutView",
            "grid_template_rows": null,
            "right": null,
            "justify_content": null,
            "_view_module": "@jupyter-widgets/base",
            "overflow": null,
            "_model_module_version": "1.2.0",
            "_view_count": null,
            "flex_flow": null,
            "width": null,
            "min_width": null,
            "border": null,
            "align_items": null,
            "bottom": null,
            "_model_module": "@jupyter-widgets/base",
            "top": null,
            "grid_column": null,
            "overflow_y": null,
            "overflow_x": null,
            "grid_auto_flow": null,
            "grid_area": null,
            "grid_template_columns": null,
            "flex": null,
            "_model_name": "LayoutModel",
            "justify_items": null,
            "grid_row": null,
            "max_height": null,
            "align_content": null,
            "visibility": null,
            "align_self": null,
            "height": null,
            "min_height": null,
            "padding": null,
            "grid_auto_rows": null,
            "grid_gap": null,
            "max_width": null,
            "order": null,
            "_view_module_version": "1.2.0",
            "grid_template_areas": null,
            "object_position": null,
            "object_fit": null,
            "grid_auto_columns": null,
            "margin": null,
            "display": null,
            "left": null
          }
        },
        "5931d2750aa1467b9d45339aaf52c3fd": {
          "model_module": "@jupyter-widgets/controls",
          "model_name": "DescriptionStyleModel",
          "state": {
            "_view_name": "StyleView",
            "_model_name": "DescriptionStyleModel",
            "description_width": "",
            "_view_module": "@jupyter-widgets/base",
            "_model_module_version": "1.5.0",
            "_view_count": null,
            "_view_module_version": "1.2.0",
            "_model_module": "@jupyter-widgets/controls"
          }
        },
        "76e0c6b6d24e4fc5b09bbedcdf2f5508": {
          "model_module": "@jupyter-widgets/base",
          "model_name": "LayoutModel",
          "state": {
            "_view_name": "LayoutView",
            "grid_template_rows": null,
            "right": null,
            "justify_content": null,
            "_view_module": "@jupyter-widgets/base",
            "overflow": null,
            "_model_module_version": "1.2.0",
            "_view_count": null,
            "flex_flow": null,
            "width": null,
            "min_width": null,
            "border": null,
            "align_items": null,
            "bottom": null,
            "_model_module": "@jupyter-widgets/base",
            "top": null,
            "grid_column": null,
            "overflow_y": null,
            "overflow_x": null,
            "grid_auto_flow": null,
            "grid_area": null,
            "grid_template_columns": null,
            "flex": null,
            "_model_name": "LayoutModel",
            "justify_items": null,
            "grid_row": null,
            "max_height": null,
            "align_content": null,
            "visibility": null,
            "align_self": null,
            "height": null,
            "min_height": null,
            "padding": null,
            "grid_auto_rows": null,
            "grid_gap": null,
            "max_width": null,
            "order": null,
            "_view_module_version": "1.2.0",
            "grid_template_areas": null,
            "object_position": null,
            "object_fit": null,
            "grid_auto_columns": null,
            "margin": null,
            "display": null,
            "left": null
          }
        }
      }
    }
  },
  "cells": [
    {
      "cell_type": "code",
      "metadata": {
        "id": "XrEB2YkgCqbI",
        "colab_type": "code",
        "colab": {}
      },
      "source": [
        "import torch\n",
        "import torchvision\n",
        "from torchvision import transforms\n",
        "import matplotlib.pyplot as plt\n",
        "import numpy as np\n",
        "from torch import optim\n",
        "from torch import nn\n",
        "import copy"
      ],
      "execution_count": 0,
      "outputs": []
    },
    {
      "cell_type": "code",
      "metadata": {
        "id": "IuI35cWVGECV",
        "colab_type": "code",
        "outputId": "a315ca10-2040-462a-837d-8b039d05f184",
        "colab": {
          "base_uri": "https://localhost:8080/",
          "height": 35
        }
      },
      "source": [
        "device = torch.device('cuda')\n",
        "print(device.type)"
      ],
      "execution_count": 2,
      "outputs": [
        {
          "output_type": "stream",
          "text": [
            "cuda\n"
          ],
          "name": "stdout"
        }
      ]
    },
    {
      "cell_type": "code",
      "metadata": {
        "id": "pUlzCIEOEUHd",
        "colab_type": "code",
        "colab": {}
      },
      "source": [
        "training_transforms = transforms.Compose([\n",
        "                             transforms.RandomResizedCrop(256),\n",
        "                             transforms.ToTensor(),\n",
        "                             transforms.Normalize((0.5,0.5,0.5),(0.5,0.5,0.5))])\n",
        "\n",
        "testing_transforms = transforms.Compose([\n",
        "                            transforms.RandomResizedCrop(256),\n",
        "                            transforms.ToTensor(),\n",
        "                            transforms.Normalize((0.5,0.5,0.5),(0.5,0.5,0.5))])\n"
      ],
      "execution_count": 0,
      "outputs": []
    },
    {
      "cell_type": "code",
      "metadata": {
        "id": "tCJYV7WeF3ZP",
        "colab_type": "code",
        "outputId": "5dd590d2-51e4-4bf2-db70-fbcae10f34c2",
        "colab": {
          "base_uri": "https://localhost:8080/",
          "height": 101,
          "referenced_widgets": [
            "18702d4d8b894f9280ee93f30154f86b",
            "15ac8b865e4b4c0abc4e39ae71bc0762",
            "be7dd51f94da4c62b619ea06ed574dd2",
            "9b402b5b904a4d86858c960a9bb2d518",
            "de061a460dc14aea82d1f5e5d58f390b",
            "6ac4d633383844fc9b5137055a4b02c0",
            "5931d2750aa1467b9d45339aaf52c3fd",
            "76e0c6b6d24e4fc5b09bbedcdf2f5508"
          ]
        }
      },
      "source": [
        "train_data = torchvision.datasets.CIFAR10(root = './data',train= True,download = True,transform= training_transforms)\n",
        "test_data = torchvision.datasets.CIFAR10(root='./data',train = True,download = True,transform = testing_transforms)"
      ],
      "execution_count": 4,
      "outputs": [
        {
          "output_type": "stream",
          "text": [
            "Downloading https://www.cs.toronto.edu/~kriz/cifar-10-python.tar.gz to ./data/cifar-10-python.tar.gz\n"
          ],
          "name": "stdout"
        },
        {
          "output_type": "display_data",
          "data": {
            "application/vnd.jupyter.widget-view+json": {
              "model_id": "18702d4d8b894f9280ee93f30154f86b",
              "version_minor": 0,
              "version_major": 2
            },
            "text/plain": [
              "HBox(children=(IntProgress(value=1, bar_style='info', max=1), HTML(value='')))"
            ]
          },
          "metadata": {
            "tags": []
          }
        },
        {
          "output_type": "stream",
          "text": [
            "Extracting ./data/cifar-10-python.tar.gz to ./data\n",
            "Files already downloaded and verified\n"
          ],
          "name": "stdout"
        }
      ]
    },
    {
      "cell_type": "code",
      "metadata": {
        "id": "tIerjlnbGjOc",
        "colab_type": "code",
        "colab": {}
      },
      "source": [
        "train_dataloader = torch.utils.data.DataLoader(dataset = train_data,batch_size = 50,shuffle = True)\n",
        "test_dataloader = torch.utils.data.DataLoader(dataset=test_data,batch_size = 50)"
      ],
      "execution_count": 0,
      "outputs": []
    },
    {
      "cell_type": "code",
      "metadata": {
        "id": "K0WKFhZOee02",
        "colab_type": "code",
        "outputId": "41bbc470-472a-40e0-ed47-e24ad0e0c703",
        "colab": {
          "base_uri": "https://localhost:8080/",
          "height": 35
        }
      },
      "source": [
        "print(len(train_dataloader))"
      ],
      "execution_count": 6,
      "outputs": [
        {
          "output_type": "stream",
          "text": [
            "1000\n"
          ],
          "name": "stdout"
        }
      ]
    },
    {
      "cell_type": "code",
      "metadata": {
        "id": "cJiDEwzVIfl9",
        "colab_type": "code",
        "colab": {}
      },
      "source": [
        "#Building ALEXNET from scratch\n",
        "class Alex(nn.Module):\n",
        "  def __init__(self):\n",
        "    super(Alex,self).__init__()\n",
        "    self.features = nn.Sequential(\n",
        "                    nn.Conv2d(3,64,kernel_size = 11,stride =4,padding =2),\n",
        "                    nn.ReLU(),\n",
        "                    nn.MaxPool2d(kernel_size = 3,stride = 2),\n",
        "                    nn.Conv2d(64,192,kernel_size = 5,padding = 2),\n",
        "                    nn.ReLU(),\n",
        "                    nn.MaxPool2d(kernel_size=3,stride=2),\n",
        "                    nn.Conv2d(192,384,kernel_size=3,padding=1),\n",
        "                    nn.ReLU(),\n",
        "                    nn.Conv2d(384,256,kernel_size = 3,padding = 1),\n",
        "                    nn.ReLU(),\n",
        "                    nn.Conv2d(256,256,kernel_size = 3,padding=1),\n",
        "                    nn.ReLU(),\n",
        "                    nn.MaxPool2d(kernel_size = 3,stride = 2))\n",
        "    self.avgpool = nn.AdaptiveAvgPool2d((6,6))\n",
        "    self.classifier = nn.Sequential(\n",
        "                    nn.Dropout(),\n",
        "                    nn.Linear(256*6*6,4096),\n",
        "                    nn.ReLU(),\n",
        "                    nn.Dropout(),\n",
        "                    nn.Linear(4096,4096),\n",
        "                    nn.ReLU(),\n",
        "                    nn.Linear(4096,10))\n",
        "  def forward(self,x):\n",
        "      x = self.features(x)\n",
        "      x = self.avgpool(x)\n",
        "      x = torch.flatten(x,1)\n",
        "      x = self.classifier(x)\n",
        "      return x\n",
        "\n",
        "    "
      ],
      "execution_count": 0,
      "outputs": []
    },
    {
      "cell_type": "code",
      "metadata": {
        "id": "tvUvnSCO0CGm",
        "colab_type": "code",
        "colab": {}
      },
      "source": [
        "train_data_iter = iter(train_dataloader)\n",
        "test_data_iter = iter(test_dataloader)"
      ],
      "execution_count": 0,
      "outputs": []
    },
    {
      "cell_type": "code",
      "metadata": {
        "id": "DI4OJyWE4u5M",
        "colab_type": "code",
        "colab": {}
      },
      "source": [
        "model = Alex()\n",
        "model = model.to(device)\n",
        "loss_fn = nn.CrossEntropyLoss()\n",
        "opti = optim.SGD(model.parameters(),lr = 0.15)\n",
        "#print(model)"
      ],
      "execution_count": 0,
      "outputs": []
    },
    {
      "cell_type": "code",
      "metadata": {
        "id": "otl_CHoS4A_0",
        "colab_type": "code",
        "colab": {}
      },
      "source": [
        "epochs = 100\n",
        "epoch_loss = []\n",
        "min_loss = 10000\n",
        "for i in range(epochs):\n",
        "  for images,labels in train_dataloader:\n",
        "    opti.zero_grad()\n",
        "    images = images.to(device)\n",
        "    labels = labels.to(device)\n",
        "    outputs = model(images)\n",
        "    loss = loss_fn(outputs,labels)\n",
        "    loss.backward()\n",
        "    opti.step()\n",
        "    \n",
        "    del images,labels,outputs    #deleting the images, outputs and labels to free the cache memory on GPU\n",
        "    torch.cuda.empty_cache()\n",
        "    \n",
        "    if loss.item() < abs(min_loss):\n",
        "      min_loss = loss.item()\n",
        "      best_model = copy.deepcopy(model.state_dict)\n",
        "      print(f'Min loss is {min_loss}')\n",
        "  epoch_loss.append(loss.item())\n",
        "\n",
        "plt.plot(epoch_loss)\n",
        "plt.show()\n",
        "\n"
      ],
      "execution_count": 0,
      "outputs": []
    },
    {
      "cell_type": "code",
      "metadata": {
        "id": "VJnacDPXdo0k",
        "colab_type": "code",
        "colab": {}
      },
      "source": [
        "def accuracy(model,data):\n",
        "  total = 0,correct = 0\n",
        "  for images,labels in data:\n",
        "    outputs = model(images)\n",
        "    output = torch.argmax(outputs,1)\n",
        "    for i in range(len(labels)):\n",
        "      if labels[i] == output[i]:\n",
        "        correct +=1\n",
        "      total +=1\n",
        "  return 100*(correct/total)\n",
        "print(accuracy(best_model,train_data_iter))\n",
        "print(accuracy(best_model,test_data_iter))"
      ],
      "execution_count": 0,
      "outputs": []
    },
    {
      "cell_type": "code",
      "metadata": {
        "id": "XwGeztIojM6y",
        "colab_type": "code",
        "colab": {}
      },
      "source": [
        ""
      ],
      "execution_count": 0,
      "outputs": []
    }
  ]
}